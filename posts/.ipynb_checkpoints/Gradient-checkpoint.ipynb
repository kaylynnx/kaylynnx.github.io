{
 "cells": [
  {
   "cell_type": "code",
   "execution_count": null,
   "id": "d7352b3c-d624-4e1c-91f4-2f3a91a9ef23",
   "metadata": {},
   "outputs": [],
   "source": [
    "from solutions.logistic import LogisticRegression # your source code\n",
    "from sklearn.datasets import make_blobs\n",
    "from matplotlib import pyplot as plt\n",
    "import numpy as np\n",
    "np.seterr(all='ignore') \n",
    "\n",
    "# make the data\n",
    "p_features = 3\n",
    "X, y = make_blobs(n_samples = 200, n_features = p_features - 1, centers = [(-1, -1), (1, 1)])\n",
    "\n",
    "fig = plt.scatter(X[:,0], X[:,1], c = y)\n",
    "xlab = plt.xlabel(\"Feature 1\")\n",
    "ylab = plt.ylabel(\"Feature 2\")"
   ]
  }
 ],
 "metadata": {
  "kernelspec": {
   "display_name": "Python 3 (ipykernel)",
   "language": "python",
   "name": "python3"
  },
  "language_info": {
   "codemirror_mode": {
    "name": "ipython",
    "version": 3
   },
   "file_extension": ".py",
   "mimetype": "text/x-python",
   "name": "python",
   "nbconvert_exporter": "python",
   "pygments_lexer": "ipython3",
   "version": "3.9.13"
  }
 },
 "nbformat": 4,
 "nbformat_minor": 5
}

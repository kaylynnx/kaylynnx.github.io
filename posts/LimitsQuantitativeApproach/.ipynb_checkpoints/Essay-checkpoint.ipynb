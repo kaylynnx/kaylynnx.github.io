{
 "cells": [
  {
   "cell_type": "raw",
   "id": "83ee95b5-0c95-42b1-ac48-c9e303813976",
   "metadata": {},
   "source": [
    "---\n",
    "title: Hello Blog\n",
    "author: Kaylynn Xia\n",
    "date: '2023-05-15'\n",
    "image: \"image.jpg\"\n",
    "description: \"Limits of the Quantitative Approach\"\n",
    "bibliography: refs.bib\n",
    "format: html\n",
    "---"
   ]
  },
  {
   "cell_type": "markdown",
   "id": "e9ef4db9-fb51-448b-85eb-f0eacf3282c5",
   "metadata": {},
   "source": [
    "As long as humans have existed, technology has been a powerful force. From the wheel to running water to the computer, technology has aided our day-to-day lives. In modern-day technology, since the mid-1900s, technology has expanded past new inventions to more quantitative innovations. The generation of new phones and computers has become relatively stagnant, but the usage of phones and computers to aid our day-to-day lives has exploded. Scientists and businessmen created Machine Learning, more colloquially known as Artificial Intelligence. Artificial Intelligence has been displayed in movies such as Robocop or the recently released horror movie, Megan. These movies depict a universe in which Artificial Intelligence is self-aware and relatively human. While largely exaggerated, we have created machines to learn from data, hence why it is called Machine Learning. Given some historical data or a collection of current data, the machines can generate some sort of conclusion. \n",
    "\n",
    "\n",
    "Machine Learning is used in the finance industry to uncover credit card fraud, make predictions about creditworthiness, and identify trends in the stock market (@Yapo_Weiss_2018). Machine learning has been incredibly productive and helpful to provide important advances in health care and treatment decisions (@Yapo_Weiss_2018). The criminal justice system is using machine learning to predict crime hotspots and recidivism rates (@Yapo_Weiss_2018). AI and Machine learning has been increasingly widespread. They have been helpful in all aspects of our lives. But with all great innovations, there are unintended consequences. One of the unintended consequences is bias. What is bias? When we think of bias or fairness in a social, political, or economic sense, bias is defined as prejudice against one person, group, or thing in a way classified as ‘unfair’. Essentially, bias in an algorithmic sense, which we coin algorithmic bias, is very similar. Most researchers in this field define algorithmic bias differently. Nevertheless, “most suggestions on how to define model bias statistically consider such societal effects: how classification rates differ for groups of people with different values on a protected attribute such as race, color, religion, gender, disability, or family status” (Hellstrom_Bensch_Dignum_2020). What does this mean exactly? Well, bias in Machine Learning isn’t so black or white. Instead, the authors of Bias in Machine Learning found that biases can be organized into three distinct categories: “a biased world, data generation, and learning” (Hellstrom_Bensch_Dignum_2020). Within a biased world, bias may propagate through what people would refer to as historical bias. According to the Australian Human Rights Commission, “historical bias arises when the data used to train an AI system no longer accurately reflects the current reality” (@The_Australian_Human_Rights_Commission_1970). Many obsolete data contain outdated language or ideals. For instance, when we looked at the Titanic data set, we see that sex contained a binary male or female. However, more up-to-date data would also consider those who are non-binary. Secondly, in the data generation category, they found five different sources of bias, including specification bias and inherited bias. Specification bias occurs when a potential independent component is excluded from the general model, resulting in a biased estimate of the coefficients. Inherited bias refers to the underlying assumptions that skew viewpoints and data. Finally, in the learning category, a way bias propagates is through inductive bias. The inductive bias of an algorithm is the set of assumptions the learner uses to predict outputs of given inputs that it has not encountered. That list is just a small, but widespread, list of ways bias presents itself in Machine Learning and algorithms.\n",
    "\n",
    "\n",
    "Studying discrimination and prejudice in these algorithms, many researchers have concluded that these quantitative methods are incredibly problematic. One of those researchers is Arvind Narayanan. In his speech, The Limits of the Quantitative Approach to Discrimination, he argues that “currently quantitative methods are primarily used to justify the status quo. I would argue that they do more harm than good” (@Narayanan). While this is a strong statement, Narayanan backs up this claim with strong evidence. In his speech, he talks about the practice of quantitative methods. More specifically, he talks about the usage of the null hypothesis. When studying racism, for instance, the null hypothesis is that there is no racism. Similarly, when studying any form of prejudice, the null hypothesis is that there is no prejudice. This is problematic because “baked into the practice of quantitative methods is a worldview that sees the status quo as unproblematic” (@Narayanan). It’s problematic that the null hypothesis is that there is no discrimination because when there is no significant evidence that discrimination exists, people verify and justify the null hypothesis, thus seeing the status quo as something without flaws or issues. And “when researchers pick the null hypothesis on autopilot, mimicking what’s been done before, they are often oblivious to the fact that their choice has enormous normative significance” (@Narayanan). There is also the issue with data. Often the data we use are snapshots from a day or a short period. But snapshots also lose people’s lived experiences because it is not recorded in the data. So, snapshots “frame discrimination as happening at discrete moments in time rather than encoded into the way that our institutions are designed” (@Narayanan). In other words, the data doesn’t paint a holistic image, ignoring systematic and structural discrimination. Another problematic aspect of these quantitative methods is who produces the data. Usually, larger companies and organizations, both of which are arguably biased, gather data. So, “when companies are in control of producing data, they have simple ways of affecting the conclusions that are drawn by controlling which data are collected or released” (@Narayanan). Therefore, Narayanan would argue that the current quantitative methods for assessing discrimination and bias justify the status quo. \n",
    "\n",
    "\n",
    "Let’s look a little bit more closely at the quantitative methods that assess discrimination and bias. In this article, Weight Bias Among Health Professionals Specializing in Obesity, researchers looked at “anti-fat bias in health professionals” (@Schwartz_Chambliss_Brownell_Blair_Billington_2003). Anti-fat has been a more modern way of thinking. Lately, our culture has praised the ultra-skinny but shames those who are bigger in size. Among those who echo these bias sentiments are unfortunately health care professionals. While not all of them are anti-fat, there remain some who are, which decreases the standard of care. This can ruin people’s lives. In this study, the researchers found that “the obesity specialists in the study exhibited a significant implicit anti-fat bias” (@Schwartz_Chambliss_Brownell_Blair_Billington_2003). Often times, the healthcare professionals would assign the words “lazy, stupid, and worthless” to the overweight people. However, they explain that “people who work directly with obese patients exhibited less anti-fat bias” (@Schwartz_Chambliss_Brownell_Blair_Billington_2003). Looking at bias in this context is very important because there are real implications associated with anti-fat biases. How do these factors impact healthcare standards? How does this affect people’s perception of the doctors and do those perceptions affect the rate at which people are seeking medical attention? Investigating these biases are very beneficial. It’s important that people, especially healthcare workers, understand their implicit biases so that they can better treat patients from different backgrounds. \n",
    "\n",
    "\n",
    "Furthermore, we can look closer at algorithmic auditing. These audits are used to help “expose systematic biases embedded in software platforms” (@Raji_Buolamwini_2019). There are many audits that researchers use to evaluate discrimination and biases in algorithms. And these targeted algorithmic audits “provide one mechanism to incentivize corporations to address the algorithmic bias present in data-centric technologies that continue to play an integral role in daily life, from governing access to information and economic opportunities to influencing personal freedoms” (@Raji_Buolamwini_2019). These algorithmic audits are incredibly helpful to review potential discrimination found in large corporations and algorithms. For instance, there was a study that found that “Amazon’s recruitment tool, which produced AI-based recommendations that significantly favored men over women for technical jobs” (@Gupta_Parra_Dennehy_2021). An algorithmic audit on this would have been very informative and helpful. These audits focus on “user awareness of algorithmic bias” and “evaluate the impact of bias on user behavior and outcomes” (@Raji_Buolamwini_2019). By spreading awareness of these widespread algorithms, built by monopolized tech corporations, people can better understand the harms surrounding the algorithms. More specifically, to audit commercial systems, such as Amazon’s recruitment tool, researchers will use a ‘black box audit’, where “the direct or indirect influence of input features on classifier accuracy or outcomes is inferred through the evaluation of a curated benchmark” (@Raji_Buolamwini_2019). When using this audit, the vendor names are kept anonymous, and the scope is scaled down to a single named target. This means that it rarely provokes public pressure and reduces the impetus for corporate reactions. Regardless, we are able to better ourselves by understanding the implications of big tech algorithms. \n",
    "\n",
    "\n",
    "Similar to the black box audit, there is also the gender shades study. It is an “external and multi-target black box audit of commercial machine learning” (@Raji_Buolamwini_2019). Within this audit, they test “attributes of gender, reduced to the binary categories of male or female, as well as binary Fitzpatrick score, a numerical classification schema for human skin type, evaluated by a dermatologist, and grouped into classes of lighter and darker skin types” (@Raji_Buolamwini_2019). This audit seems problematic. By reducing gender to a binary male or female, we ignore those who do not fit into either category such as binary or transgender people. Furthermore, there are similar issues presented when we look at skin color as ‘lighter’ or ‘darker’. However, when using the gender shades study to evaluate companies, the results were very promising. The researchers from this study found that “by highlighting the issue of classification performance disparities and amplifying public awareness, the study was able to motivate companies to prioritize the issue and yield significant improvements within 7 months” (@Raji_Buolamwini_2019).\n",
    "\n",
    "\n",
    "Looking at the sources, it seems like the quantitative methods of assessing discrimination and bias partially follows the status quo. However, I would argue that they do more good than harm. It is important to consider the intentions behind these quantitative methods. Take the Gender Shades Study, for instance. It is highly problematic that they label gender as a binary female and male and classify skin color as lighter or darker. However as a result, we are bringing public awareness to an issue. People can then make decisions after reading and understanding the data. \n",
    "\n",
    "\n",
    "Technology and machine learning have come a long way. They have supported individuals in our day-to-day lives, making them important. However, the current usages of these algorithms and the foundations on which they lie are problematic. When looking at the algorithms, people use quantitative methods to assess the discrimination and bias. I, along with many other researchers and individuals, wouldn’t go as far as to say that the harms outweigh the benefits. There needs change and an ethical discussion, but these quantitative methods can still be helpful. "
   ]
  }
 ],
 "metadata": {
  "kernelspec": {
   "display_name": "Python 3 (ipykernel)",
   "language": "python",
   "name": "python3"
  },
  "language_info": {
   "codemirror_mode": {
    "name": "ipython",
    "version": 3
   },
   "file_extension": ".py",
   "mimetype": "text/x-python",
   "name": "python",
   "nbconvert_exporter": "python",
   "pygments_lexer": "ipython3",
   "version": "3.9.16"
  }
 },
 "nbformat": 4,
 "nbformat_minor": 5
}

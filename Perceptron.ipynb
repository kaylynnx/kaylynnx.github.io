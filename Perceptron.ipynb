{
 "cells": [
  {
   "cell_type": "code",
   "execution_count": 1,
   "id": "8f6d0a70-ec2e-4a08-b2a7-52434a6fbf5b",
   "metadata": {},
   "outputs": [],
   "source": [
    "import numpy as np\n",
    "import pandas as pd\n",
    "import seaborn as sns\n",
    "from matplotlib import pyplot as plt\n",
    "import random as random\n",
    "import perceptron\n",
    "\n",
    "# import importlib\n",
    "# importlib.reload(perceptron)\n",
    "\n",
    "from sklearn.datasets import make_blobs\n",
    "\n",
    "def draw_line(w, x_min, x_max):\n",
    "    x = np.linspace(x_min, x_max, 101)\n",
    "    y = -(w[0]*x + w[2])/w[1]\n",
    "    plt.plot(x, y, color = \"black\")\n",
    "\n",
    "np.random.seed(12345)\n",
    "\n",
    "n = 10\n",
    "p_features = 3\n",
    "\n",
    "X, y = make_blobs(n_samples = n, n_features = p_features - 1, centers = [(-1.7, -1.7), (1.7, 1.7)])"
   ]
  },
  {
   "cell_type": "code",
   "execution_count": 2,
   "id": "1b797e93-93f9-4fa6-823c-2c8c23babb12",
   "metadata": {},
   "outputs": [],
   "source": [
    "# print(X)\n",
    "# print(y)"
   ]
  },
  {
   "cell_type": "code",
   "execution_count": 5,
   "id": "62b1b1e1-9617-4d39-804b-ed784de3fba8",
   "metadata": {},
   "outputs": [
    {
     "name": "stdout",
     "output_type": "stream",
     "text": [
      "10\n",
      "2\n",
      "[0.21895004 0.25871906 0.46810575]\n"
     ]
    }
   ],
   "source": [
    "n_samples, p_features = X.shape\n",
    "print(n_samples)\n",
    "print(p_features)\n",
    "w = np.random.rand(p_features + 1) # w are weights\n",
    "print(w)\n",
    "\n",
    "# z = np.random.randint(2, size=3)\n",
    "# print(z)\n",
    "# zz = z <= 0\n",
    "# print(zz)\n",
    "# zzz = np.random.randint(3, size=3)\n",
    "# print(zzz)\n",
    "# print(zzz * zz)"
   ]
  },
  {
   "cell_type": "code",
   "execution_count": 4,
   "id": "762b15ca-ecc1-4106-9b08-2fa3a9872190",
   "metadata": {},
   "outputs": [
    {
     "name": "stdout",
     "output_type": "stream",
     "text": [
      "[2 2 2 2 2 2 2 2 2 2]\n"
     ]
    }
   ],
   "source": [
    "# a = np.random.randint(2, size = 2)\n",
    "# B = np.random.randint(2, size = (10, 2))\n",
    "# #print(B)\n",
    "# M = np.sum(B * a <= 0, axis=1)\n",
    "# print(M)"
   ]
  },
  {
   "cell_type": "code",
   "execution_count": 6,
   "id": "44be8cc3-e973-437f-8805-c57f6744010a",
   "metadata": {},
   "outputs": [],
   "source": [
    "def predict(X):\n",
    "    # p_features = X.shape[0]\n",
    "    # n_samples = X.shape[1]\n",
    "    #y = []\n",
    "    #for i in range(n_samples):\n",
    "    #    xi = np.append(X[i], [1])\n",
    "    #    w_sq = np.append(w, [-1])\n",
    "    #    y.push(np.sum( xi * w_sq ))\n",
    "    #return y\n",
    "    pred = X * w < 1\n",
    "    #print(f'Pred-times = {pred}')\n",
    "    return pred[:, 1] * 1\n",
    "\n",
    "def score(X,y):\n",
    "    y_pred = predict(X)\n",
    "    #print(f'y-pred={y_pred}')\n",
    "    compare = y_pred == y\n",
    "    #print(f'compare={compare}')\n",
    "    return np.sum(compare) / n_samples\n",
    "    "
   ]
  },
  {
   "cell_type": "code",
   "execution_count": 22,
   "id": "2f560dae-4ecb-44da-b889-b1a279c5f442",
   "metadata": {},
   "outputs": [
    {
     "name": "stdout",
     "output_type": "stream",
     "text": [
      "8: xi_sq = [[ 1.97499163  1.92891288  1.        ]\n",
      " [-0.93097743 -0.45356526  1.        ]\n",
      " [-0.30163731  1.32815746  1.        ]\n",
      " [-1.90470766 -1.22105666  1.        ]\n",
      " [ 3.05291684  2.58642934  1.        ]\n",
      " [ 0.26578057 -0.30659417  1.        ]\n",
      " [ 2.70718936  0.40377889  1.        ]\n",
      " [ 3.36902531  1.26143026  1.        ]\n",
      " [-2.21943872 -2.2557303   1.        ]\n",
      " [-1.60709212 -1.41825385  1.        ]]\n",
      "[0 1]\n"
     ]
    },
    {
     "ename": "ValueError",
     "evalue": "shapes (10,3) and (2,) not aligned: 3 (dim 1) != 2 (dim 0)",
     "output_type": "error",
     "traceback": [
      "\u001b[0;31m---------------------------------------------------------------------------\u001b[0m",
      "\u001b[0;31mValueError\u001b[0m                                Traceback (most recent call last)",
      "\u001b[0;32m/var/folders/k5/sv5thph578dff6sqh3h3z2kw0000gn/T/ipykernel_23629/4049527848.py\u001b[0m in \u001b[0;36m<module>\u001b[0;34m\u001b[0m\n\u001b[1;32m     15\u001b[0m \u001b[0;34m\u001b[0m\u001b[0m\n\u001b[1;32m     16\u001b[0m     \u001b[0;31m# print(f'dot={np.dot(xi_sq, w_sq)} and y_sq={y_sq}')\u001b[0m\u001b[0;34m\u001b[0m\u001b[0;34m\u001b[0m\u001b[0m\n\u001b[0;32m---> 17\u001b[0;31m     \u001b[0;32mif\u001b[0m \u001b[0my_sq\u001b[0m \u001b[0;34m*\u001b[0m \u001b[0;34m(\u001b[0m\u001b[0mnp\u001b[0m\u001b[0;34m.\u001b[0m\u001b[0mdot\u001b[0m\u001b[0;34m(\u001b[0m\u001b[0mxi_sq\u001b[0m\u001b[0;34m,\u001b[0m \u001b[0mw_sq\u001b[0m\u001b[0;34m)\u001b[0m\u001b[0;34m)\u001b[0m \u001b[0;34m<\u001b[0m \u001b[0;36m0\u001b[0m\u001b[0;34m:\u001b[0m\u001b[0;34m\u001b[0m\u001b[0;34m\u001b[0m\u001b[0m\n\u001b[0m\u001b[1;32m     18\u001b[0m         \u001b[0mprint\u001b[0m\u001b[0;34m(\u001b[0m\u001b[0;34mf'**************************'\u001b[0m\u001b[0;34m)\u001b[0m\u001b[0;34m\u001b[0m\u001b[0;34m\u001b[0m\u001b[0m\n\u001b[1;32m     19\u001b[0m         \u001b[0mw_prime\u001b[0m\u001b[0;34m=\u001b[0m \u001b[0mw_sq\u001b[0m \u001b[0;34m+\u001b[0m \u001b[0my_sq\u001b[0m \u001b[0;34m*\u001b[0m \u001b[0mxi_sq\u001b[0m\u001b[0;34m\u001b[0m\u001b[0;34m\u001b[0m\u001b[0m\n",
      "\u001b[0;32m<__array_function__ internals>\u001b[0m in \u001b[0;36mdot\u001b[0;34m(*args, **kwargs)\u001b[0m\n",
      "\u001b[0;31mValueError\u001b[0m: shapes (10,3) and (2,) not aligned: 3 (dim 1) != 2 (dim 0)"
     ]
    }
   ],
   "source": [
    "history = []\n",
    "max_steps = 1000\n",
    "\n",
    "for step in range(max_steps) :\n",
    "    # Compute the predicted label\n",
    "    i = random.randint(0,n_samples-1)\n",
    "    xi_sq = np.append(X, np.ones((X.shape[0], 1)), 1)\n",
    "    print(f'{i}: xi_sq = {xi_sq}')\n",
    "    yi = y[i]\n",
    "    #print(f'yi={yi}')\n",
    "    w_sq = np.random.randint((X.shape[1], X.shape[0]))\n",
    "    print(w_sq)\n",
    "    \n",
    "    y_sq = 2*yi - 1\n",
    "    \n",
    "    # print(f'dot={np.dot(xi_sq, w_sq)} and y_sq={y_sq}')\n",
    "    if y_sq * (np.dot(xi_sq, w_sq)) < 0:\n",
    "        print(f'**************************')\n",
    "        w_prime= w_sq + y_sq * xi_sq\n",
    "    else:\n",
    "        w_prime = w_sq\n",
    "    #w_prime = w_sq + (np.sum(z)*y_sq) < 0)*y_sq*xi\n",
    "    #print(f'w= {w} -> {w_prime[:2]}')\n",
    "    w = w_prime[:3]\n",
    "    #print(f'w-prime={w_prime}, w={w}')\n",
    "    # print(w)\n",
    "    val = score(X,y)\n",
    "    #print(f'score={val}')\n",
    "    if(val >= 1):\n",
    "        break\n",
    "    history.append(val)\n",
    "    #w = np.zeros(X.shape[1])\n",
    "print(w)\n",
    "print(history[:-10])"
   ]
  },
  {
   "cell_type": "code",
   "execution_count": null,
   "id": "e269d10f-a205-4590-a211-3429c3085c95",
   "metadata": {},
   "outputs": [],
   "source": [
    "p = perceptron.Perceptron()\n",
    "\n",
    "p.fit(X, y, 1000)"
   ]
  },
  {
   "cell_type": "code",
   "execution_count": null,
   "id": "3241b18e-7920-4fb5-ae86-b66037d7dde8",
   "metadata": {},
   "outputs": [],
   "source": [
    "fig = plt.scatter(X[:,0], X[:,1], c = y)\n",
    "fig = draw_line(p.w, -2, 2)\n",
    "xlab = plt.xlabel(\"Feature 1\")\n",
    "ylab = plt.ylabel(\"Feature 2\")\n",
    "\n",
    "fig = plt.plot(p.history)\n",
    "xlab = plt.xlabel(\"Iteration\")\n",
    "ylab = plt.ylabel(\"Accuracy\")"
   ]
  },
  {
   "cell_type": "code",
   "execution_count": null,
   "id": "c6460a6e-0f78-4a96-869d-380b151724e6",
   "metadata": {},
   "outputs": [],
   "source": [
    "%load_ext autoreload\n",
    "%autoreload 2"
   ]
  }
 ],
 "metadata": {
  "kernelspec": {
   "display_name": "Python 3 (ipykernel)",
   "language": "python",
   "name": "python3"
  },
  "language_info": {
   "codemirror_mode": {
    "name": "ipython",
    "version": 3
   },
   "file_extension": ".py",
   "mimetype": "text/x-python",
   "name": "python",
   "nbconvert_exporter": "python",
   "pygments_lexer": "ipython3",
   "version": "3.9.13"
  }
 },
 "nbformat": 4,
 "nbformat_minor": 5
}
